{
 "cells": [
  {
   "cell_type": "markdown",
   "metadata": {},
   "source": [
    "# Checking the upperbound used in the verification section"
   ]
  },
  {
   "cell_type": "code",
   "execution_count": 1,
   "metadata": {},
   "outputs": [],
   "source": [
    "import numpy as np\n",
    "import matplotlib.pyplot as plt"
   ]
  },
  {
   "cell_type": "code",
   "execution_count": 12,
   "metadata": {},
   "outputs": [
    {
     "data": {
      "text/plain": [
       "<matplotlib.legend.Legend at 0x11bf78150>"
      ]
     },
     "execution_count": 12,
     "metadata": {},
     "output_type": "execute_result"
    },
    {
     "data": {
      "image/png": "[encoded data removed]",
      "text/plain": [
       "<Figure size 432x288 with 1 Axes>"
      ]
     },
     "metadata": {
      "needs_background": "light"
     },
     "output_type": "display_data"
    }
   ],
   "source": [
    "lefts = []\n",
    "rights = []\n",
    "d = 16\n",
    "phi = 5\n",
    "\n",
    "for delta in range(4):\n",
    "    lefts.append((2*delta+1) *(1-(np.pi *delta)**2/3))\n",
    "    suma = 0\n",
    "    for i in range(2*delta+1):\n",
    "        if i-delta !=0:\n",
    "            suma += np.sin(np.pi*(-delta + i))**2/(np.pi*(-delta + i))**2\n",
    "        else:\n",
    "            suma += 1\n",
    "    rights.append(suma)\n",
    "x = np.zeros(4)\n",
    "for i in range(4):\n",
    "    x[i] = i\n",
    "plt.scatter(x, lefts, label = 'Below')\n",
    "plt.scatter(x, rights, label = 'Above')\n",
    "plt.xlabel('delta')\n",
    "plt.legend()"
   ]
  },
  {
   "cell_type": "code",
   "execution_count": null,
   "metadata": {},
   "outputs": [],
   "source": []
  }
 ],
 "metadata": {
  "kernelspec": {
   "display_name": "Python 3",
   "language": "python",
   "name": "python3"
  },
  "language_info": {
   "codemirror_mode": {
    "name": "ipython",
    "version": 3
   },
   "file_extension": ".py",
   "mimetype": "text/x-python",
   "name": "python",
   "nbconvert_exporter": "python",
   "pygments_lexer": "ipython3",
   "version": "3.7.4"
  }
 },
 "nbformat": 4,
 "nbformat_minor": 2
}
